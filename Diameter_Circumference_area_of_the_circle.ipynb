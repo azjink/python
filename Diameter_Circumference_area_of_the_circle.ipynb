{
 "cells": [
  {
   "cell_type": "code",
   "execution_count": 1,
   "id": "084be8a5-eea4-4583-9a94-5077daa5ef08",
   "metadata": {},
   "outputs": [
    {
     "name": "stdin",
     "output_type": "stream",
     "text": [
      "Enter the radius of the circle:  2\n"
     ]
    },
    {
     "name": "stdout",
     "output_type": "stream",
     "text": [
      "Diameter of the circle: 4.0\n",
      "Circumference of the circle: 12.566370614359172\n",
      "Area of the circle: 12.566370614359172\n"
     ]
    }
   ],
   "source": [
    "import math\n",
    "\n",
    "def circle_properties(radius):\n",
    "    diameter = 2 * radius\n",
    "    circumference = 2 * math.pi * radius\n",
    "    area = math.pi * radius ** 2\n",
    "    return diameter, circumference, area\n",
    "\n",
    "radius = float(input(\"Enter the radius of the circle: \"))\n",
    "diameter, circumference, area = circle_properties(radius)\n",
    "\n",
    "print(f\"Diameter of the circle: {diameter}\")\n",
    "print(f\"Circumference of the circle: {circumference}\")\n",
    "print(f\"Area of the circle: {area}\")\n"
   ]
  },
  {
   "cell_type": "code",
   "execution_count": null,
   "id": "f6b4e752-54f8-48c3-aa81-662fc0b23e55",
   "metadata": {},
   "outputs": [],
   "source": []
  }
 ],
 "metadata": {
  "kernelspec": {
   "display_name": "Python 3 (ipykernel)",
   "language": "python",
   "name": "python3"
  },
  "language_info": {
   "codemirror_mode": {
    "name": "ipython",
    "version": 3
   },
   "file_extension": ".py",
   "mimetype": "text/x-python",
   "name": "python",
   "nbconvert_exporter": "python",
   "pygments_lexer": "ipython3",
   "version": "3.9.6"
  }
 },
 "nbformat": 4,
 "nbformat_minor": 5
}
