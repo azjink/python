{
 "cells": [
  {
   "cell_type": "code",
   "execution_count": 1,
   "id": "c270bc75-df98-4ce3-b1a8-0dccb69eb396",
   "metadata": {},
   "outputs": [
    {
     "name": "stdin",
     "output_type": "stream",
     "text": [
      "Enter length of side a:  5\n",
      "Enter length of side b:  5\n",
      "Enter length of side c:  5\n"
     ]
    },
    {
     "name": "stdout",
     "output_type": "stream",
     "text": [
      "Area of the triangle: 10.825317547305483\n",
      "Type of triangle: Equilateral\n"
     ]
    }
   ],
   "source": [
    "def calculate_area(a, b, c):\n",
    "    # Calculate semi-perimeter\n",
    "    s = (a + b + c) / 2\n",
    "\n",
    "    # Calculate area using Heron's formula\n",
    "    area = (s * (s - a) * (s - b) * (s - c)) ** 0.5\n",
    "    return area\n",
    "\n",
    "def triangle_type(a, b, c):\n",
    "    if a == b == c:\n",
    "        return \"Equilateral\"\n",
    "    elif a == b or b == c or a == c:\n",
    "        return \"Isosceles\"\n",
    "    else:\n",
    "        return \"Scalene\"\n",
    "\n",
    "def main():\n",
    "    # Input side lengths of the triangle\n",
    "    side_a = float(input(\"Enter length of side a: \"))\n",
    "    side_b = float(input(\"Enter length of side b: \"))\n",
    "    side_c = float(input(\"Enter length of side c: \"))\n",
    "\n",
    "    # Calculate area\n",
    "    area = calculate_area(side_a, side_b, side_c)\n",
    "\n",
    "    # Determine type of triangle\n",
    "    triangle_type_str = triangle_type(side_a, side_b, side_c)\n",
    "\n",
    "    # Display the results\n",
    "    print(\"Area of the triangle:\", area)\n",
    "    print(\"Type of triangle:\", triangle_type_str)\n",
    "\n",
    "if __name__ == \"__main__\":\n",
    "    main()"
   ]
  },
  {
   "cell_type": "code",
   "execution_count": null,
   "id": "84e6054a-42a9-43c5-899e-fa3d8784ffa7",
   "metadata": {},
   "outputs": [],
   "source": []
  }
 ],
 "metadata": {
  "kernelspec": {
   "display_name": "Python 3 (ipykernel)",
   "language": "python",
   "name": "python3"
  },
  "language_info": {
   "codemirror_mode": {
    "name": "ipython",
    "version": 3
   },
   "file_extension": ".py",
   "mimetype": "text/x-python",
   "name": "python",
   "nbconvert_exporter": "python",
   "pygments_lexer": "ipython3",
   "version": "3.9.6"
  }
 },
 "nbformat": 4,
 "nbformat_minor": 5
}
