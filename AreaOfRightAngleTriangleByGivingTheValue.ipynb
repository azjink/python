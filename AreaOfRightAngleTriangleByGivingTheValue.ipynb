{
 "cells": [
  {
   "cell_type": "code",
   "execution_count": 2,
   "id": "ea77662f-ba7c-40dd-aa17-1d785b98f4e2",
   "metadata": {},
   "outputs": [
    {
     "name": "stdin",
     "output_type": "stream",
     "text": [
      "Enter the length of the base of the triangle:  5\n",
      "Enter the length of the height of the triangle:  5\n"
     ]
    },
    {
     "name": "stdout",
     "output_type": "stream",
     "text": [
      "The area of the right-angled triangle is: 12.5\n"
     ]
    }
   ],
   "source": [
    "def triangle_area(base, height):\n",
    "    \"\"\"\n",
    "    Calculate the area of a right-angled triangle.\n",
    "\n",
    "    Args:\n",
    "        base (float): Length of the base of the triangle.\n",
    "        height (float): Length of the height of the triangle.\n",
    "\n",
    "    Returns:\n",
    "        float: Area of the triangle.\n",
    "    \"\"\"\n",
    "    area = 0.5 * base * height\n",
    "    return area\n",
    "\n",
    "# Input the lengths of the base and height of the triangle\n",
    "base_length = float(input(\"Enter the length of the base of the triangle: \"))\n",
    "height_length = float(input(\"Enter the length of the height of the triangle: \"))\n",
    "\n",
    "# Calculate the area using the triangle_area function\n",
    "area = triangle_area(base_length, height_length)\n",
    "\n",
    "# Print the result\n",
    "print(\"The area of the right-angled triangle is:\", area)"
   ]
  },
  {
   "cell_type": "code",
   "execution_count": null,
   "id": "d90841c0-63e0-4996-9132-299f923ee0e0",
   "metadata": {},
   "outputs": [],
   "source": []
  }
 ],
 "metadata": {
  "kernelspec": {
   "display_name": "Python 3 (ipykernel)",
   "language": "python",
   "name": "python3"
  },
  "language_info": {
   "codemirror_mode": {
    "name": "ipython",
    "version": 3
   },
   "file_extension": ".py",
   "mimetype": "text/x-python",
   "name": "python",
   "nbconvert_exporter": "python",
   "pygments_lexer": "ipython3",
   "version": "3.9.6"
  }
 },
 "nbformat": 4,
 "nbformat_minor": 5
}
