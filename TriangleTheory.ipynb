{
 "cells": [
  {
   "cell_type": "code",
   "execution_count": 1,
   "id": "ea558c6b-cfbc-4b1c-b0d2-0eef4ea5c970",
   "metadata": {},
   "outputs": [
    {
     "name": "stdin",
     "output_type": "stream",
     "text": [
      "Enter the length of side a:  5\n",
      "Enter the length of side b:  5\n",
      "Enter the length of side c:  5\n"
     ]
    },
    {
     "name": "stdout",
     "output_type": "stream",
     "text": [
      "Semi-Perimeter: 7.5\n",
      "Area: 10.825317547305483\n"
     ]
    }
   ],
   "source": [
    "import math\n",
    "\n",
    "def calculate_semi_perimeter(a, b, c):\n",
    "    return (a + b + c) / 2\n",
    "\n",
    "def calculate_area(a, b, c):\n",
    "    s = calculate_semi_perimeter(a, b, c)\n",
    "    area = math.sqrt(s * (s - a) * (s - b) * (s - c))\n",
    "    return area\n",
    "\n",
    "def main():\n",
    "    # Input sides of the triangle\n",
    "    a = float(input(\"Enter the length of side a: \"))\n",
    "    b = float(input(\"Enter the length of side b: \"))\n",
    "    c = float(input(\"Enter the length of side c: \"))\n",
    "    \n",
    "    # Calculate semi-perimeter\n",
    "    semi_perimeter = calculate_semi_perimeter(a, b, c)\n",
    "    \n",
    "    # Calculate area\n",
    "    area = calculate_area(a, b, c)\n",
    "    \n",
    "    print(\"Semi-Perimeter:\", semi_perimeter)\n",
    "    print(\"Area:\", area)\n",
    "\n",
    "if __name__ == \"__main__\":\n",
    "    main()\n"
   ]
  },
  {
   "cell_type": "code",
   "execution_count": 2,
   "id": "c451cd4c-96a5-4977-bb09-24bcb420373a",
   "metadata": {},
   "outputs": [
    {
     "name": "stdin",
     "output_type": "stream",
     "text": [
      "Enter the measure of the first angle in degrees:  30\n",
      "Enter the measure of the second angle in degrees:  100\n"
     ]
    },
    {
     "name": "stdout",
     "output_type": "stream",
     "text": [
      "The measure of the third angle is: 50.0 degrees\n"
     ]
    }
   ],
   "source": [
    "def find_third_angle(angle1, angle2):\n",
    "    total_angle = 180\n",
    "    third_angle = total_angle - (angle1 + angle2)\n",
    "    return third_angle\n",
    "\n",
    "def main():\n",
    "    # Input two angles of the triangle\n",
    "    angle1 = float(input(\"Enter the measure of the first angle in degrees: \"))\n",
    "    angle2 = float(input(\"Enter the measure of the second angle in degrees: \"))\n",
    "\n",
    "    # Calculate the measure of the third angle\n",
    "    third_angle = find_third_angle(angle1, angle2)\n",
    "\n",
    "    print(\"The measure of the third angle is:\", third_angle, \"degrees\")\n",
    "\n",
    "if __name__ == \"__main__\":\n",
    "    main()"
   ]
  },
  {
   "cell_type": "code",
   "execution_count": null,
   "id": "c39d4a08-6a1b-4154-89e2-86a7d08b7239",
   "metadata": {},
   "outputs": [],
   "source": []
  }
 ],
 "metadata": {
  "kernelspec": {
   "display_name": "Python 3 (ipykernel)",
   "language": "python",
   "name": "python3"
  },
  "language_info": {
   "codemirror_mode": {
    "name": "ipython",
    "version": 3
   },
   "file_extension": ".py",
   "mimetype": "text/x-python",
   "name": "python",
   "nbconvert_exporter": "python",
   "pygments_lexer": "ipython3",
   "version": "3.9.6"
  }
 },
 "nbformat": 4,
 "nbformat_minor": 5
}
