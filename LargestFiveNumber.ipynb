{
 "cells": [
  {
   "cell_type": "code",
   "execution_count": 1,
   "id": "9e7f60ed",
   "metadata": {},
   "outputs": [
    {
     "name": "stdout",
     "output_type": "stream",
     "text": [
      "Enter number 1: 1\n",
      "Enter number 2: 2\n",
      "Enter number 3: 3\n",
      "Enter number 4: 4\n",
      "Enter number 5: 5\n",
      "The largest number is: 5.0\n"
     ]
    }
   ],
   "source": [
    "def find_largest_of_five():\n",
    "    # Input five numbers\n",
    "    num1 = float(input(\"Enter number 1: \"))\n",
    "    num2 = float(input(\"Enter number 2: \"))\n",
    "    num3 = float(input(\"Enter number 3: \"))\n",
    "    num4 = float(input(\"Enter number 4: \"))\n",
    "    num5 = float(input(\"Enter number 5: \"))\n",
    "\n",
    "    # Find the largest number\n",
    "    largest = num1\n",
    "    if num2 > largest:\n",
    "        largest = num2\n",
    "    if num3 > largest:\n",
    "        largest = num3\n",
    "    if num4 > largest:\n",
    "        largest = num4\n",
    "    if num5 > largest:\n",
    "        largest = num5\n",
    "\n",
    "    return largest\n",
    "\n",
    "largest_number = find_largest_of_five()\n",
    "print(\"The largest number is:\", largest_number)\n"
   ]
  },
  {
   "cell_type": "code",
   "execution_count": null,
   "id": "455abe6a",
   "metadata": {},
   "outputs": [],
   "source": []
  }
 ],
 "metadata": {
  "kernelspec": {
   "display_name": "Python 3 (ipykernel)",
   "language": "python",
   "name": "python3"
  },
  "language_info": {
   "codemirror_mode": {
    "name": "ipython",
    "version": 3
   },
   "file_extension": ".py",
   "mimetype": "text/x-python",
   "name": "python",
   "nbconvert_exporter": "python",
   "pygments_lexer": "ipython3",
   "version": "3.11.5"
  }
 },
 "nbformat": 4,
 "nbformat_minor": 5
}
