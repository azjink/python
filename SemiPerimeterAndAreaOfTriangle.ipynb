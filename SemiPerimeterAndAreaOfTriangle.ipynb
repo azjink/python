{
 "cells": [
  {
   "cell_type": "code",
   "execution_count": 2,
   "id": "e1e65569-324f-41d2-af83-8bf42b87d14c",
   "metadata": {},
   "outputs": [
    {
     "name": "stdin",
     "output_type": "stream",
     "text": [
      "Enter the length of side a:  5\n",
      "Enter the length of side b:  5\n",
      "Enter the length of side c:  5\n"
     ]
    },
    {
     "name": "stdout",
     "output_type": "stream",
     "text": [
      "Semi-Perimeter: 7.5\n",
      "Area: 10.825317547305483\n"
     ]
    }
   ],
   "source": [
    "import math\n",
    "\n",
    "def calculate_semi_perimeter(a, b, c):\n",
    "    return (a + b + c) / 2\n",
    "\n",
    "def calculate_area(a, b, c):\n",
    "    s = calculate_semi_perimeter(a, b, c)\n",
    "    return math.sqrt(s * (s - a) * (s - b) * (s - c))\n",
    "\n",
    "def main():\n",
    "    # Input sides of the triangle\n",
    "    a = float(input(\"Enter the length of side a: \"))\n",
    "    b = float(input(\"Enter the length of side b: \"))\n",
    "    c = float(input(\"Enter the length of side c: \"))\n",
    "\n",
    "    # Calculate semi-perimeter and area\n",
    "    semi_perimeter = calculate_semi_perimeter(a, b, c)\n",
    "    area = calculate_area(a, b, c)\n",
    "\n",
    "    # Output the results\n",
    "    print(\"Semi-Perimeter:\", semi_perimeter)\n",
    "    print(\"Area:\", area)\n",
    "\n",
    "if __name__ == \"__main__\":\n",
    "    main()\n"
   ]
  },
  {
   "cell_type": "code",
   "execution_count": null,
   "id": "ccf71e6b-7215-4328-a717-2704ba85e2a6",
   "metadata": {},
   "outputs": [],
   "source": []
  }
 ],
 "metadata": {
  "kernelspec": {
   "display_name": "Python 3 (ipykernel)",
   "language": "python",
   "name": "python3"
  },
  "language_info": {
   "codemirror_mode": {
    "name": "ipython",
    "version": 3
   },
   "file_extension": ".py",
   "mimetype": "text/x-python",
   "name": "python",
   "nbconvert_exporter": "python",
   "pygments_lexer": "ipython3",
   "version": "3.9.6"
  }
 },
 "nbformat": 4,
 "nbformat_minor": 5
}
