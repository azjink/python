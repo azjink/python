{
 "cells": [
  {
   "cell_type": "code",
   "execution_count": 1,
   "id": "a9a28445",
   "metadata": {},
   "outputs": [
    {
     "name": "stdout",
     "output_type": "stream",
     "text": [
      "Enter the first number: 2\n",
      "Enter the second number: 5\n",
      "Enter the third number: 9\n",
      "The maximum number is: 9.0\n"
     ]
    }
   ],
   "source": [
    "# Get three numbers as input from the user\n",
    "num1 = float(input(\"Enter the first number: \"))\n",
    "num2 = float(input(\"Enter the second number: \"))\n",
    "num3 = float(input(\"Enter the third number: \"))\n",
    "\n",
    "# Find the maximum among the three numbers\n",
    "maximum = max(num1, num2, num3)\n",
    "\n",
    "# Display the result\n",
    "print(\"The maximum number is:\", maximum)\n"
   ]
  },
  {
   "cell_type": "code",
   "execution_count": null,
   "id": "944592ac",
   "metadata": {},
   "outputs": [],
   "source": []
  }
 ],
 "metadata": {
  "kernelspec": {
   "display_name": "Python 3 (ipykernel)",
   "language": "python",
   "name": "python3"
  },
  "language_info": {
   "codemirror_mode": {
    "name": "ipython",
    "version": 3
   },
   "file_extension": ".py",
   "mimetype": "text/x-python",
   "name": "python",
   "nbconvert_exporter": "python",
   "pygments_lexer": "ipython3",
   "version": "3.11.5"
  }
 },
 "nbformat": 4,
 "nbformat_minor": 5
}
