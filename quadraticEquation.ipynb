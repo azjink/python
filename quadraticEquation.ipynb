{
 "cells": [
  {
   "cell_type": "code",
   "execution_count": 6,
   "id": "be4a3f45-0f04-429c-a7ac-0934d3478de3",
   "metadata": {},
   "outputs": [
    {
     "name": "stdout",
     "output_type": "stream",
     "text": [
      "Enter the coefficients of the quadratic equation (ax^2 + bx + c = 0):\n"
     ]
    },
    {
     "name": "stdin",
     "output_type": "stream",
     "text": [
      "Enter coefficient a:  1\n",
      "Enter coefficient b:  5\n",
      "Enter coefficient c:  6\n"
     ]
    },
    {
     "name": "stdout",
     "output_type": "stream",
     "text": [
      "The solutions are: -3.0 and -2.0\n"
     ]
    }
   ],
   "source": [
    "import math\n",
    "\n",
    "def solve_quadratic(a, b, c):\n",
    "    # Calculate the discriminant\n",
    "    discriminant = b**2 - 4*a*c\n",
    "\n",
    "    if discriminant < 0:\n",
    "        return \"No real roots\"\n",
    "    elif discriminant == 0:\n",
    "        # One real root\n",
    "        solution = -b / (2*a)\n",
    "        return solution\n",
    "    else:\n",
    "        # Two real roots\n",
    "        solution1 = (-b - math.sqrt(discriminant)) / (2*a)\n",
    "        solution2 = (-b + math.sqrt(discriminant)) / (2*a)\n",
    "        return solution1, solution2\n",
    "\n",
    "def main():\n",
    "    print(\"Enter the coefficients of the quadratic equation (ax^2 + bx + c = 0):\")\n",
    "    a = float(input(\"Enter coefficient a: \"))\n",
    "    b = float(input(\"Enter coefficient b: \"))\n",
    "    c = float(input(\"Enter coefficient c: \"))\n",
    "\n",
    "    solutions = solve_quadratic(a, b, c)\n",
    "\n",
    "    if isinstance(solutions, tuple):\n",
    "        print(\"The solutions are:\", solutions[0], \"and\", solutions[1])\n",
    "    else:\n",
    "        print(\"The solution is:\", solutions)\n",
    "\n",
    "if __name__ == \"__main__\":\n",
    "    main()\n"
   ]
  },
  {
   "cell_type": "code",
   "execution_count": null,
   "id": "aa094841-d0fd-4f15-812c-fe52a10dabaa",
   "metadata": {},
   "outputs": [],
   "source": []
  }
 ],
 "metadata": {
  "kernelspec": {
   "display_name": "Python 3 (ipykernel)",
   "language": "python",
   "name": "python3"
  },
  "language_info": {
   "codemirror_mode": {
    "name": "ipython",
    "version": 3
   },
   "file_extension": ".py",
   "mimetype": "text/x-python",
   "name": "python",
   "nbconvert_exporter": "python",
   "pygments_lexer": "ipython3",
   "version": "3.9.6"
  }
 },
 "nbformat": 4,
 "nbformat_minor": 5
}
