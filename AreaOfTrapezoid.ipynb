{
 "cells": [
  {
   "cell_type": "code",
   "execution_count": 1,
   "id": "e7477f36-fb6d-40bd-a958-e2ff0a10e430",
   "metadata": {},
   "outputs": [
    {
     "name": "stdin",
     "output_type": "stream",
     "text": [
      "Enter the length of the first base:  5\n",
      "Enter the length of the second base:  8\n",
      "Enter the height of the trapezoid:  6\n"
     ]
    },
    {
     "name": "stdout",
     "output_type": "stream",
     "text": [
      "The area of the trapezoid is: 39.0\n"
     ]
    }
   ],
   "source": [
    "def trapezoid_area(base1, base2, height):\n",
    "    \"\"\"\n",
    "    Calculate the area of a trapezoid.\n",
    "    \n",
    "    Parameters:\n",
    "        base1 (float): Length of the first base.\n",
    "        base2 (float): Length of the second base.\n",
    "        height (float): Height of the trapezoid.\n",
    "    \n",
    "    Returns:\n",
    "        float: Area of the trapezoid.\n",
    "    \"\"\"\n",
    "    return 0.5 * (base1 + base2) * height\n",
    "\n",
    "# Example usage:\n",
    "base1 = float(input(\"Enter the length of the first base: \"))\n",
    "base2 = float(input(\"Enter the length of the second base: \"))\n",
    "height = float(input(\"Enter the height of the trapezoid: \"))\n",
    "\n",
    "area = trapezoid_area(base1, base2, height)\n",
    "print(\"The area of the trapezoid is:\", area)\n"
   ]
  },
  {
   "cell_type": "code",
   "execution_count": null,
   "id": "6bbc8714-8079-49af-95e8-08284317d68e",
   "metadata": {},
   "outputs": [],
   "source": []
  }
 ],
 "metadata": {
  "kernelspec": {
   "display_name": "Python 3 (ipykernel)",
   "language": "python",
   "name": "python3"
  },
  "language_info": {
   "codemirror_mode": {
    "name": "ipython",
    "version": 3
   },
   "file_extension": ".py",
   "mimetype": "text/x-python",
   "name": "python",
   "nbconvert_exporter": "python",
   "pygments_lexer": "ipython3",
   "version": "3.9.6"
  }
 },
 "nbformat": 4,
 "nbformat_minor": 5
}
