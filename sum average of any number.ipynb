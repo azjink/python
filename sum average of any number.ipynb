{
 "cells": [
  {
   "cell_type": "code",
   "execution_count": 1,
   "id": "6d95a7f0",
   "metadata": {},
   "outputs": [
    {
     "name": "stdout",
     "output_type": "stream",
     "text": [
      "Enter numbers separated by spaces: 5 8 15\n",
      "Sum: 28.0\n",
      "Average: 9.333333333333334\n"
     ]
    }
   ],
   "source": [
    "def calculate_sum_and_average(numbers):\n",
    "    # Calculate sum\n",
    "    total_sum = sum(numbers)\n",
    "    \n",
    "    # Calculate average\n",
    "    average = total_sum / len(numbers)\n",
    "    \n",
    "    return total_sum, average\n",
    "\n",
    "# Input: Taking a list of numbers as input\n",
    "numbers = [float(x) for x in input(\"Enter numbers separated by spaces: \").split()]\n",
    "\n",
    "# Call the function to calculate sum and average\n",
    "sum_result, average_result = calculate_sum_and_average(numbers)\n",
    "\n",
    "# Output the results\n",
    "print(f\"Sum: {sum_result}\")\n",
    "print(f\"Average: {average_result}\")"
   ]
  },
  {
   "cell_type": "code",
   "execution_count": null,
   "id": "8f33a549",
   "metadata": {},
   "outputs": [],
   "source": []
  }
 ],
 "metadata": {
  "kernelspec": {
   "display_name": "Python 3 (ipykernel)",
   "language": "python",
   "name": "python3"
  },
  "language_info": {
   "codemirror_mode": {
    "name": "ipython",
    "version": 3
   },
   "file_extension": ".py",
   "mimetype": "text/x-python",
   "name": "python",
   "nbconvert_exporter": "python",
   "pygments_lexer": "ipython3",
   "version": "3.11.5"
  }
 },
 "nbformat": 4,
 "nbformat_minor": 5
}
